{
 "cells": [
  {
   "cell_type": "code",
   "execution_count": 1,
   "id": "3a81178b",
   "metadata": {},
   "outputs": [],
   "source": [
    "import pandas as pd\n",
    "from sklearn.feature_extraction import DictVectorizer"
   ]
  },
  {
   "cell_type": "code",
   "execution_count": 2,
   "id": "e528e48a",
   "metadata": {},
   "outputs": [],
   "source": [
    "# Load and clean the dataset\n",
    "def load_and_clean(parquet_url):\n",
    "    df = pd.read_parquet(parquet_url, engine='pyarrow')\n",
    "    df['tpep_pickup_datetime'] = pd.to_datetime(df['tpep_pickup_datetime'])\n",
    "    df['tpep_dropoff_datetime'] = pd.to_datetime(df['tpep_dropoff_datetime'])\n",
    "    df['trip_duration_minutes'] = (\n",
    "        (df['tpep_dropoff_datetime'] - df['tpep_pickup_datetime']).dt.total_seconds() / 60\n",
    "    )\n",
    "    df = df[(df['trip_duration_minutes'] >= 1) & (df['trip_duration_minutes'] <= 60)]\n",
    "    return df"
   ]
  },
  {
   "cell_type": "code",
   "execution_count": 3,
   "id": "573e876b",
   "metadata": {},
   "outputs": [],
   "source": [
    "TRAIN_URL = 'https://d37ci6vzurychx.cloudfront.net/trip-data/yellow_tripdata_2025-01.parquet'\n",
    "VAL_URL = \"https://d37ci6vzurychx.cloudfront.net/trip-data/yellow_tripdata_2025-02.parquet\""
   ]
  },
  {
   "cell_type": "code",
   "execution_count": 4,
   "id": "cc4f6ddc",
   "metadata": {},
   "outputs": [],
   "source": [
    "train_df = load_and_clean(TRAIN_URL)\n",
    "val_df = load_and_clean(VAL_URL)"
   ]
  },
  {
   "cell_type": "code",
   "execution_count": 5,
   "id": "eb954ff2",
   "metadata": {},
   "outputs": [],
   "source": [
    "# Select and convert relevant columns\n",
    "train_df_selected = train_df[['PULocationID', 'DOLocationID']].astype(str)\n",
    "train_df_selected = train_df_selected.to_dict(orient='records')"
   ]
  },
  {
   "cell_type": "code",
   "execution_count": 6,
   "id": "fc376044",
   "metadata": {},
   "outputs": [],
   "source": [
    "# Apply one-hot encoding\n",
    "dv = DictVectorizer()\n",
    "X_train = dv.fit_transform(train_df_selected)"
   ]
  },
  {
   "cell_type": "code",
   "execution_count": 8,
   "id": "346ed42c",
   "metadata": {},
   "outputs": [],
   "source": [
    "y_train = train_df.trip_duration_minutes.values"
   ]
  },
  {
   "cell_type": "code",
   "execution_count": 7,
   "id": "bd283407",
   "metadata": {},
   "outputs": [],
   "source": [
    "from sklearn.feature_extraction import DictVectorizer\n",
    "from sklearn.linear_model import LinearRegression\n",
    "from sklearn.metrics import mean_squared_error\n",
    "import numpy as np"
   ]
  },
  {
   "cell_type": "code",
   "execution_count": 9,
   "id": "31105578",
   "metadata": {},
   "outputs": [
    {
     "name": "stdout",
     "output_type": "stream",
     "text": [
      "RMSE on training data: 7.71\n"
     ]
    }
   ],
   "source": [
    "# Train linear regression model\n",
    "lr = LinearRegression()\n",
    "lr.fit(X_train, y_train)\n",
    "\n",
    "# Predict and calculate RMSE\n",
    "y_pred = lr.predict(X_train)\n",
    "rmse = mean_squared_error(y_train, y_pred, squared=False)\n",
    "print(f\"RMSE on training data: {rmse:.2f}\")"
   ]
  },
  {
   "cell_type": "code",
   "execution_count": 10,
   "id": "49dce7cb",
   "metadata": {},
   "outputs": [
    {
     "name": "stdout",
     "output_type": "stream",
     "text": [
      "RMSE on validation data (February): 7.95\n"
     ]
    }
   ],
   "source": [
    "# Transform February data with the same DictVectorizer\n",
    "X_val = dv.transform(val_df[['PULocationID', 'DOLocationID']].astype(str).to_dict(orient='records'))\n",
    "y_val = val_df['trip_duration_minutes'].values\n",
    "\n",
    "# Predict and evaluate\n",
    "y_pred = lr.predict(X_val)\n",
    "rmse_val = mean_squared_error(y_val, y_pred, squared=False)\n",
    "print(f\"RMSE on validation data (February): {rmse_val:.2f}\")"
   ]
  },
  {
   "cell_type": "code",
   "execution_count": null,
   "id": "08a553a0",
   "metadata": {},
   "outputs": [],
   "source": []
  }
 ],
 "metadata": {
  "kernelspec": {
   "display_name": "Python 3 (ipykernel)",
   "language": "python",
   "name": "python3"
  },
  "language_info": {
   "codemirror_mode": {
    "name": "ipython",
    "version": 3
   },
   "file_extension": ".py",
   "mimetype": "text/x-python",
   "name": "python",
   "nbconvert_exporter": "python",
   "pygments_lexer": "ipython3",
   "version": "3.9.12"
  }
 },
 "nbformat": 4,
 "nbformat_minor": 5
}
